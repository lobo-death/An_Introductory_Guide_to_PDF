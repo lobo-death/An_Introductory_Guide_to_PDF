{
  "nbformat": 4,
  "nbformat_minor": 0,
  "metadata": {
    "colab": {
      "name": "Normal Distribution - An Introductory Guide to PDF.ipynb",
      "provenance": [],
      "collapsed_sections": []
    },
    "kernelspec": {
      "name": "python3",
      "display_name": "Python 3"
    },
    "language_info": {
      "name": "python"
    }
  },
  "cells": [
    {
      "cell_type": "markdown",
      "source": [
        "### Normal Distribution\n",
        "#### An Introductory Guide to PDF\n",
        "##### by Teena Mary\n",
        "##### adapted by Marcelo Machado Pereira"
      ],
      "metadata": {
        "id": "3-tIgnAknY4W"
      }
    },
    {
      "cell_type": "markdown",
      "source": [
        "The probability density function (PDF) is a statistical expression that defines a probability distribution (the likelihood of an outcome) for a discrete random variable as opposed to a continuous random variable. When the PDF is graphically portrayed, the area under the curve will indicate the interval in which the variable will fall.(Investopedia, 2022)"
      ],
      "metadata": {
        "id": "fgk-8QifQfDS"
      }
    },
    {
      "cell_type": "markdown",
      "source": [
        "### Loading packages"
      ],
      "metadata": {
        "id": "0_7Y9BQXt9Vz"
      }
    },
    {
      "cell_type": "code",
      "source": [
        "import numpy as np\n",
        "import scipy\n",
        "import math\n",
        "\n",
        "from matplotlib import pyplot as plt\n",
        "from scipy.stats import binom\n",
        "from scipy.stats import norm\n",
        "\n",
        "plt.rcParams['figure.figsize'] = (20, 10)"
      ],
      "metadata": {
        "id": "0cl60DNIno2b"
      },
      "execution_count": null,
      "outputs": []
    },
    {
      "cell_type": "markdown",
      "source": [
        "### Creating variables"
      ],
      "metadata": {
        "id": "3D9oyVv_uCZD"
      }
    },
    {
      "cell_type": "code",
      "metadata": {
        "id": "28N-8q-pjB7O"
      },
      "source": [
        "n = 8\n",
        "p = 0.5\n",
        "r_values = list(range(n + 1))\n",
        "dist = [binom.pmf(r, n, p) for r in r_values]\n",
        "print(\"The r_values is: {}\\nThe distribution with probability mass function: \\n{}\".format(r_values, dist))"
      ],
      "execution_count": null,
      "outputs": []
    },
    {
      "cell_type": "markdown",
      "source": [
        "### Ploting the histogram of the distribution"
      ],
      "metadata": {
        "id": "7EM_MyGb6zdV"
      }
    },
    {
      "cell_type": "code",
      "source": [
        "plt.title(label=\"Binomial Distribution of Occurrences\", fontsize=15, color=\"red\")\n",
        "plt.bar(r_values, dist)\n",
        "plt.xlabel(\"Values\", fontsize=13)\n",
        "plt.ylabel(\"Probabilities\", fontsize=13)\n",
        "plt.show()"
      ],
      "metadata": {
        "id": "uUAeGQ7lphS2"
      },
      "execution_count": null,
      "outputs": []
    },
    {
      "cell_type": "markdown",
      "source": [
        "### Creating a Probability Density Function"
      ],
      "metadata": {
        "id": "OhFrGoyd7gsF"
      }
    },
    {
      "cell_type": "code",
      "source": [
        "def PDF(x, mean, std_dev):\n",
        "    probability = 1.0 / math.sqrt(2 * 3.141592 * (std_dev)**2)\n",
        "    probability *= math.exp(-0.5 * ((x - mean)/std_dev)**2)\n",
        "    return probability"
      ],
      "metadata": {
        "id": "OD5CNCmGpcgk"
      },
      "execution_count": null,
      "outputs": []
    },
    {
      "cell_type": "markdown",
      "source": [
        "### Creating a list of values"
      ],
      "metadata": {
        "id": "xvwLLIL8tdsn"
      }
    },
    {
      "cell_type": "code",
      "source": [
        "X = []\n",
        "for x in range(129, 146):\n",
        "    y = PDF(x, 137, 2)\n",
        "    N_vals_at_y = int(round(y * 1001, 0))\n",
        "    for i in range(N_vals_at_y):\n",
        "        X.append(x)\n",
        "\n",
        "print(\"The values of X: {}\".format(X))"
      ],
      "metadata": {
        "id": "NOxc8Wr_pWEO"
      },
      "execution_count": null,
      "outputs": []
    },
    {
      "cell_type": "markdown",
      "source": [
        "### Calculating the mean"
      ],
      "metadata": {
        "id": "oHcieHLS8IiW"
      }
    },
    {
      "cell_type": "code",
      "source": [
        "mean = round(sum(X)/len(X), 4)"
      ],
      "metadata": {
        "id": "UlgxOzGepM6Z"
      },
      "execution_count": null,
      "outputs": []
    },
    {
      "cell_type": "markdown",
      "source": [
        "### Calculating the standard deviation"
      ],
      "metadata": {
        "id": "Q6WHCHcmxwoL"
      }
    },
    {
      "cell_type": "code",
      "source": [
        "std_dev = 0.0\n",
        "N = len(X)\n",
        "\n",
        "for x in X:\n",
        "    std_dev += (x - mean)**2\n",
        "\n",
        "std_dev /= N\n",
        "std_dev = math.sqrt(std_dev)\n",
        "std_dev = round(std_dev, 2)"
      ],
      "metadata": {
        "id": "gVxp0xs5uHrg"
      },
      "execution_count": null,
      "outputs": []
    },
    {
      "cell_type": "markdown",
      "source": [
        "### Presenting the results"
      ],
      "metadata": {
        "id": "vuHwf_yEyIG-"
      }
    },
    {
      "cell_type": "code",
      "source": [
        "print(\"We fake measured the heights of {} 1st graders.\".format(N))\n",
        "print(\"The mean is {}\".format(mean))\n",
        "print(\"The standard deviation is {}\".format(std_dev))"
      ],
      "metadata": {
        "id": "So2YxSsBpIaO"
      },
      "execution_count": null,
      "outputs": []
    },
    {
      "cell_type": "code",
      "source": [
        "x = 139\n",
        "print(\"Probability Density Function: {}\".format(PDF(x, 137, 2)))"
      ],
      "metadata": {
        "id": "TKiQfWJzpGQK"
      },
      "execution_count": null,
      "outputs": []
    },
    {
      "cell_type": "code",
      "source": [
        "figure, ax = plt.subplots()\n",
        "\n",
        "X = []\n",
        "Y = []\n",
        "\n",
        "for x in np.arange(129, 146, 0.1):\n",
        "    X.append(x)\n",
        "    y = norm.pdf(x=x, loc=137.0, scale=2)\n",
        "    Y.append(y)\n",
        "\n",
        "ax.set_xlabel(\"1st Grader Heights\")\n",
        "ax.set_ylabel(\"Probabilities of 1st Grader Heights\")\n",
        "ax.set_title(\"PDF of 1st Grader Heights, mu = 137, sigma = 2\")\n",
        "plt.plot(X, Y)\n",
        "plt.show()"
      ],
      "metadata": {
        "id": "CwbR7I4KpDt5"
      },
      "execution_count": null,
      "outputs": []
    },
    {
      "cell_type": "code",
      "source": [
        "x = 139\n",
        "p = norm.pdf(x=x, loc=137.0, scale=2)\n",
        "print(\"The probability of a 1st grader being '{}' is '{}'.\".format(x, p))"
      ],
      "metadata": {
        "id": "mHJ1txHMo6z5"
      },
      "execution_count": null,
      "outputs": []
    },
    {
      "cell_type": "markdown",
      "source": [
        "### Ploting the Probability Density Function Area"
      ],
      "metadata": {
        "id": "-U4oNYKo3nEe"
      }
    },
    {
      "cell_type": "code",
      "source": [
        "Y1 = Y.copy()\n",
        "for i in range(len(Y1)):\n",
        "    if Y1[i] >= p:\n",
        "        Y1[i] = p\n",
        "\n",
        "plt.fill_between(X, Y, 0,\n",
        "                 where = (np.array(X) > 134.9) & (np.array(X) < 139.01),\n",
        "                 facecolor=\"orange\",\n",
        "                 color='blue',\n",
        "                 alpha=0.2)\n",
        "plt.title(\"Shadow Area of a Normal Distribution PDF\")\n",
        "plt.xlabel(\"Distribution of the ages\")\n",
        "plt.ylabel(\"Values of the PDF\")\n",
        "plt.grid()\n",
        "plt.plot(X, Y)"
      ],
      "metadata": {
        "id": "dDMA9SzDCfdR"
      },
      "execution_count": null,
      "outputs": []
    },
    {
      "cell_type": "code",
      "source": [
        "X = np.arange(-4, 4, 0.001)\n",
        "Y = norm.pdf(X, loc=0, scale=1)\n",
        "\n",
        "plt.title(\"Graph of Standard Normal Dist, mu = 0, sigma = 1\")\n",
        "plt.xlabel(\"X-values\")\n",
        "plt.ylabel(\"PDF value of Std Normal Dist\")\n",
        "plt.plot(X, Y)\n",
        "plt.show()"
      ],
      "metadata": {
        "id": "xV2aYyT0o04m"
      },
      "execution_count": null,
      "outputs": []
    },
    {
      "cell_type": "markdown",
      "source": [
        "### References\n",
        "https://integratedmlai.com/normal-distribution-an-introductory-guide-to-pdf-and-cdf/"
      ],
      "metadata": {
        "id": "IBt5YIVjmLcq"
      }
    }
  ]
}